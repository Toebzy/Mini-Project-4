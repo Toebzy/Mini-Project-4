{
 "cells": [
  {
   "cell_type": "code",
   "execution_count": null,
   "id": "3ff11854-c446-4597-8e57-aa8b3f267777",
   "metadata": {},
   "outputs": [],
   "source": [
    "# Design Home Page\n",
    "\n",
    "import streamlit as st\n",
    "from streamlit_option_menu import option_menu\n",
    "\n",
    "import pandas as pd\n",
    "import numpy as np\n",
    "\n",
    "st.set_page_config(\n",
    "    page_title=\"Streamlit BI\",\n",
    "    page_icon=\"🧊\",\n",
    "    layout=\"wide\",\n",
    "    initial_sidebar_state=\"expanded\",\n",
    "    menu_items={\n",
    "        'Streamlit': \"https://www.streamlit.io\"\n",
    "    }\n",
    ")\n",
    "\n",
    "st.sidebar.header(\"Try Me!\", divider='rainbow')\n",
    "st.sidebar.success(\"Select a demo case from above\")\n",
    "st.image(logo, width=200)\n",
    "\n",
    "\n",
    "banner = \"\"\"\n",
    "    <body style=\"background-color:yellow;\">\n",
    "            <div style=\"background-color:#385c7f ;padding:10px\">\n",
    "                <h2 style=\"color:white;text-align:center;\">Data Science Holodeck</h2>\n",
    "            </div>\n",
    "    </body>\n",
    "    \"\"\"\n",
    "\n",
    "st.markdown(banner, unsafe_allow_html=True)\n",
    "\n",
    "\n",
    "st.markdown(\n",
    "    \"\"\"\n",
    "    ###\n",
    "        \n",
    "    👈 :green[Select a demo case from the sidebar to experience some of what Streamlit can do for BI!]\n",
    "    \n",
    "    ### To learn more\n",
    "    - Check out [our web page](https://innotechspace.dk/holodeck)\n",
    "    - Follow the guides on [EA Viden](https://www.eaviden.dk/project/data-science-holodeck/)\n",
    "    - Contact us by [email](mailto://tdi@cphbusiness.dk)\n",
    "\"\"\"\n",
    ")"
   ]
  }
 ],
 "metadata": {
  "kernelspec": {
   "display_name": "Python 3 (ipykernel)",
   "language": "python",
   "name": "python3"
  },
  "language_info": {
   "codemirror_mode": {
    "name": "ipython",
    "version": 3
   },
   "file_extension": ".py",
   "mimetype": "text/x-python",
   "name": "python",
   "nbconvert_exporter": "python",
   "pygments_lexer": "ipython3",
   "version": "3.11.7"
  }
 },
 "nbformat": 4,
 "nbformat_minor": 5
}
